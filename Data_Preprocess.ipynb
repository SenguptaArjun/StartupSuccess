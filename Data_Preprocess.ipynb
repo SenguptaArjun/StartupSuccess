{
 "cells": [
  {
   "cell_type": "code",
   "execution_count": 1,
   "metadata": {},
   "outputs": [],
   "source": [
    "from google.cloud import bigquery\n",
    "import pandas as pd\n",
    "\n",
    "from google.oauth2 import service_account\n",
    "\n",
    "key_path = \"crunchbase-startups-b791b011b22c.json\"\n",
    "\n",
    "credentials = service_account.Credentials.from_service_account_file(\n",
    "key_path, scopes=[\"https://www.googleapis.com/auth/cloud-platform\"],\n",
    ")\n",
    "\n",
    "client = bigquery.Client(credentials=credentials, project=credentials.project_id,)\n",
    "\n",
    "sql = \"\"\"\n",
    "    SELECT *\n",
    "    FROM `crunchbase-startups.startups.join_table`\n",
    "\"\"\"\n",
    "\n",
    "df = client.query(sql).to_dataframe()"
   ]
  },
  {
   "cell_type": "code",
   "execution_count": 2,
   "metadata": {},
   "outputs": [],
   "source": [
    "df_op = df[\"status_operating\"] == 1\n",
    "df_ac = df[\"status_acquired\"] == 1\n",
    "df_ip = df[\"status_ipo\"] == 1\n",
    "df_cl = df[\"status_closed\"] == 1"
   ]
  },
  {
   "cell_type": "code",
   "execution_count": 3,
   "metadata": {},
   "outputs": [],
   "source": [
    "import numpy as np"
   ]
  },
  {
   "cell_type": "code",
   "execution_count": 4,
   "metadata": {},
   "outputs": [],
   "source": [
    "category_encoded_op = np.zeros(len(df))\n",
    "category_encoded_ac = np.zeros(len(df))\n",
    "category_encoded_ip = np.zeros(len(df))\n",
    "category_encoded_cl = np.zeros(len(df))\n",
    "for c in set(np.array(df[\"category_code\"])):\n",
    "  if c == None:\n",
    "    continue\n",
    "  df_c = df[\"category_code\"] == c\n",
    "  stat_op = np.average(df[\"status_operating\"][df_c]) \n",
    "  stat_ac = np.average(df[\"status_acquired\"][df_c]) \n",
    "  stat_ip = np.average(df[\"status_ipo\"][df_c]) \n",
    "  stat_cl = np.average(df[\"status_closed\"][df_c]) \n",
    "  category_encoded_op[df_c], category_encoded_ac[df_c], \\\n",
    "  category_encoded_ip[df_c],category_encoded_cl[df_c], = stat_op, stat_ac, stat_ip, stat_cl\n",
    "df[\"category_encoded_op\"], df[\"category_encoded_ac\"], \\\n",
    "df[\"category_encoded_ip\"], df[\"category_encoded_cl\"], = category_encoded_op, category_encoded_ac, category_encoded_ip, category_encoded_cl"
   ]
  },
  {
   "cell_type": "code",
   "execution_count": 5,
   "metadata": {},
   "outputs": [],
   "source": [
    "country_encoded_op = np.zeros(len(df))\n",
    "country_encoded_ac = np.zeros(len(df))\n",
    "country_encoded_ip = np.zeros(len(df))\n",
    "country_encoded_cl = np.zeros(len(df))\n",
    "for c in set(np.array(df[\"country_code\"])):\n",
    "  if c == None:\n",
    "    continue\n",
    "  df_c = df[\"country_code\"] == c\n",
    "  stat_op = np.average(df[\"status_operating\"][df_c]) \n",
    "  stat_ac = np.average(df[\"status_acquired\"][df_c]) \n",
    "  stat_ip = np.average(df[\"status_ipo\"][df_c]) \n",
    "  stat_cl = np.average(df[\"status_closed\"][df_c]) \n",
    "  country_encoded_op[df_c], country_encoded_ac[df_c], \\\n",
    "  country_encoded_ip[df_c],country_encoded_cl[df_c], = stat_op, stat_ac, stat_ip, stat_cl\n",
    "df[\"country_encoded_op\"], df[\"country_encoded_ac\"], \\\n",
    "df[\"country_encoded_ip\"], df[\"country_encoded_cl\"], = country_encoded_op, country_encoded_ac, country_encoded_ip, country_encoded_cl"
   ]
  },
  {
   "cell_type": "code",
   "execution_count": 6,
   "metadata": {},
   "outputs": [],
   "source": [
    "state_encoded_op = np.zeros(len(df))\n",
    "state_encoded_ac = np.zeros(len(df))\n",
    "state_encoded_ip = np.zeros(len(df))\n",
    "state_encoded_cl = np.zeros(len(df))\n",
    "for c in set(np.array(df[\"state_code\"])):\n",
    "  if c == None:\n",
    "    continue\n",
    "  df_c = df[\"state_code\"] == c\n",
    "  stat_op = np.average(df[\"status_operating\"][df_c]) \n",
    "  stat_ac = np.average(df[\"status_acquired\"][df_c]) \n",
    "  stat_ip = np.average(df[\"status_ipo\"][df_c]) \n",
    "  stat_cl = np.average(df[\"status_closed\"][df_c]) \n",
    "  state_encoded_op[df_c], state_encoded_ac[df_c], \\\n",
    "  state_encoded_ip[df_c],state_encoded_cl[df_c], = stat_op, stat_ac, stat_ip, stat_cl\n",
    "df[\"state_encoded_op\"], df[\"state_encoded_ac\"], \\\n",
    "df[\"state_encoded_ip\"], df[\"state_encoded_cl\"], = state_encoded_op, state_encoded_ac, state_encoded_ip, state_encoded_cl"
   ]
  },
  {
   "cell_type": "code",
   "execution_count": 7,
   "metadata": {},
   "outputs": [],
   "source": [
    "project = client.project\n",
    "dataset_ref = bigquery.DatasetReference(project, 'startups')"
   ]
  },
  {
   "cell_type": "code",
   "execution_count": 8,
   "metadata": {},
   "outputs": [
    {
     "name": "stdout",
     "output_type": "stream",
     "text": [
      "Table join_table contains 35 columns.\n"
     ]
    }
   ],
   "source": [
    "table_id = \"join_table\"\n",
    "table_ref = dataset_ref.table(table_id)\n",
    "table = client.get_table(table_ref)\n",
    "print(\"Table {} contains {} columns.\".format(table_id, len(table.schema)))"
   ]
  },
  {
   "cell_type": "code",
   "execution_count": 9,
   "metadata": {},
   "outputs": [],
   "source": [
    "job_config = bigquery.LoadJobConfig()\n",
    "job_config.write_disposition = bigquery.WriteDisposition.WRITE_TRUNCATE\n",
    "# job_config.schema_update_options = [\n",
    "#     bigquery.SchemaUpdateOption.ALLOW_FIELD_ADDITION\n",
    "# ]"
   ]
  },
  {
   "cell_type": "code",
   "execution_count": 10,
   "metadata": {},
   "outputs": [],
   "source": [
    "job_config.schema =  table.schema + [\n",
    "    bigquery.SchemaField(\"category_encoded_op\", \"FLOAT\", mode=\"NULLABLE\"), \n",
    "    bigquery.SchemaField(\"category_encoded_ac\", \"FLOAT\", mode=\"NULLABLE\"),\n",
    "    bigquery.SchemaField(\"category_encoded_ip\", \"FLOAT\", mode=\"NULLABLE\"),\n",
    "    bigquery.SchemaField(\"category_encoded_cl\", \"FLOAT\", mode=\"NULLABLE\"),\n",
    "    bigquery.SchemaField(\"country_encoded_op\", \"FLOAT\", mode=\"NULLABLE\"),\n",
    "    bigquery.SchemaField(\"country_encoded_ac\", \"FLOAT\", mode=\"NULLABLE\"),\n",
    "    bigquery.SchemaField(\"country_encoded_ip\", \"FLOAT\", mode=\"NULLABLE\"),\n",
    "    bigquery.SchemaField(\"country_encoded_cl\", \"FLOAT\", mode=\"NULLABLE\"),\n",
    "    bigquery.SchemaField(\"state_encoded_op\", \"FLOAT\", mode=\"NULLABLE\"),\n",
    "    bigquery.SchemaField(\"state_encoded_ac\", \"FLOAT\", mode=\"NULLABLE\"),\n",
    "    bigquery.SchemaField(\"state_encoded_ip\", \"FLOAT\", mode=\"NULLABLE\"),\n",
    "    bigquery.SchemaField(\"state_encoded_cl\", \"FLOAT\", mode=\"NULLABLE\")\n",
    "    ]"
   ]
  },
  {
   "cell_type": "code",
   "execution_count": 11,
   "metadata": {},
   "outputs": [
    {
     "data": {
      "text/plain": [
       "LoadJob<project=crunchbase-startups, location=US, id=671765d0-8ae0-449d-896f-5d35a186c0c1>"
      ]
     },
     "execution_count": 11,
     "metadata": {},
     "output_type": "execute_result"
    }
   ],
   "source": [
    "job = client.load_table_from_dataframe(\n",
    "    df, \"crunchbase-startups.startups.join_table\", job_config=job_config\n",
    ")  # Make an API request.\n",
    "job.result()  # Wait for the job to complete."
   ]
  }
 ],
 "metadata": {
  "kernelspec": {
   "display_name": "Python 3",
   "language": "python",
   "name": "python3"
  },
  "language_info": {
   "codemirror_mode": {
    "name": "ipython",
    "version": 3
   },
   "file_extension": ".py",
   "mimetype": "text/x-python",
   "name": "python",
   "nbconvert_exporter": "python",
   "pygments_lexer": "ipython3",
   "version": "3.12.0"
  }
 },
 "nbformat": 4,
 "nbformat_minor": 2
}
