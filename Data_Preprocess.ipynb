{
 "cells": [
  {
   "cell_type": "code",
   "execution_count": 35,
   "metadata": {},
   "outputs": [],
   "source": [
    "from google.cloud import bigquery\n",
    "import pandas as pd\n",
    "import numpy as np\n",
    "\n",
    "from google.oauth2 import service_account\n",
    "\n",
    "key_path = \"crunchbase-startups-b791b011b22c.json\"\n",
    "\n",
    "credentials = service_account.Credentials.from_service_account_file(\n",
    "key_path, scopes=[\"https://www.googleapis.com/auth/cloud-platform\"],\n",
    ")\n",
    "\n",
    "client = bigquery.Client(credentials=credentials, project=credentials.project_id,)\n",
    "\n",
    "sql = \"\"\"\n",
    "    SELECT *\n",
    "    FROM `crunchbase-startups.startups.join_table`\n",
    "\"\"\"\n",
    "\n",
    "df = client.query(sql).to_dataframe()"
   ]
  },
  {
   "cell_type": "code",
   "execution_count": 36,
   "metadata": {},
   "outputs": [],
   "source": [
    "category_encoded1 = np.zeros(len(df))\n",
    "category_encoded2 = np.zeros(len(df))\n",
    "for c in set(np.array(df[\"category_code\"])):\n",
    "  if c == None:\n",
    "    continue\n",
    "  stat_f1 = np.average(df[\"status_encoded_field1\"][df[\"category_code\"] == c])\n",
    "  stat_f2 = np.average(df[\"status_encoded_field2\"][df[\"category_code\"] == c])\n",
    "  category_encoded1[df[\"category_code\"]==c], category_encoded2[df[\"category_code\"]==c] = stat_f1, stat_f2\n",
    "df[\"category_encoded1\"], df[\"category_encoded2\"] = category_encoded1, category_encoded2"
   ]
  },
  {
   "cell_type": "code",
   "execution_count": 42,
   "metadata": {},
   "outputs": [],
   "source": [
    "country_encoded1 = np.zeros(len(df))\n",
    "country_encoded2 = np.zeros(len(df))\n",
    "for c in set(np.array(df[\"country_code\"])):\n",
    "  if c == None:\n",
    "    continue\n",
    "  stat_f1 = np.average(df[\"status_encoded_field1\"][df[\"country_code\"] == c])\n",
    "  stat_f2 = np.average(df[\"status_encoded_field2\"][df[\"country_code\"] == c])\n",
    "  country_encoded1[df[\"country_code\"]==c], country_encoded2[df[\"country_code\"]==c] = stat_f1, stat_f2\n",
    "df[\"country_encoded1\"], df[\"country_encoded2\"] = country_encoded1, country_encoded2"
   ]
  },
  {
   "cell_type": "code",
   "execution_count": 46,
   "metadata": {},
   "outputs": [],
   "source": [
    "state_encoded1 = np.zeros(len(df))\n",
    "state_encoded2 = np.zeros(len(df))\n",
    "for c in set(np.array(df[\"state_code\"])):\n",
    "  if c == None:\n",
    "    continue\n",
    "  stat_f1 = np.average(df[\"status_encoded_field1\"][df[\"state_code\"] == c])\n",
    "  stat_f2 = np.average(df[\"status_encoded_field2\"][df[\"state_code\"] == c])\n",
    "  state_encoded1[df[\"state_code\"]==c], state_encoded2[df[\"state_code\"]==c] = stat_f1, stat_f2\n",
    "df[\"state_encoded1\"], df[\"state_encoded2\"] = state_encoded1, state_encoded2"
   ]
  }
 ],
 "metadata": {
  "kernelspec": {
   "display_name": "Python 3",
   "language": "python",
   "name": "python3"
  },
  "language_info": {
   "codemirror_mode": {
    "name": "ipython",
    "version": 3
   },
   "file_extension": ".py",
   "mimetype": "text/x-python",
   "name": "python",
   "nbconvert_exporter": "python",
   "pygments_lexer": "ipython3",
   "version": "3.12.0"
  }
 },
 "nbformat": 4,
 "nbformat_minor": 2
}
